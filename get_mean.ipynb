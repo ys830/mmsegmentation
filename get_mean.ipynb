{
 "cells": [
  {
   "cell_type": "code",
   "execution_count": 5,
   "metadata": {},
   "outputs": [],
   "source": [
    "import os\n",
    "import cv2\n",
    "import numpy as np\n",
    "from tqdm import tqdm\n",
    "# os.chdir(\"E:\\\\Pyhton_prjs\\\\createDataset\\\\notebook\\\\fix_cardiacdataset\")\n",
    "tr_img_pth = \"./data/segment_cut/05ed_res/img_dir/TEST\""
   ]
  },
  {
   "cell_type": "code",
   "execution_count": 6,
   "metadata": {},
   "outputs": [],
   "source": [
    "tr_img_files = [file for file in os.listdir(tr_img_pth)\\\n",
    "            if os.path.splitext(file)[1] in [\".png\"]]"
   ]
  },
  {
   "cell_type": "code",
   "execution_count": 7,
   "metadata": {},
   "outputs": [],
   "source": [
    "totalRGB = np.asarray([0],dtype=np.int64)\n",
    "totalVar = np.asarray([0],dtype=np.float64)\n",
    "meanRGB = np.asarray([0],dtype=np.float64)\n",
    "varRGB = np.asarray([0],dtype=np.float64)"
   ]
  },
  {
   "cell_type": "code",
   "execution_count": 8,
   "metadata": {},
   "outputs": [
    {
     "name": "stdout",
     "output_type": "stream",
     "text": [
      "54\n"
     ]
    }
   ],
   "source": [
    "print(len(tr_img_files))"
   ]
  },
  {
   "cell_type": "code",
   "execution_count": 9,
   "metadata": {},
   "outputs": [
    {
     "name": "stderr",
     "output_type": "stream",
     "text": [
      "calculating mean: 100%|██████████| 54/54 [00:00<00:00, 716.39it/s]\n"
     ]
    }
   ],
   "source": [
    "for img_file in tqdm(tr_img_files,desc=\"calculating mean\",mininterval=0.1):\n",
    "    img_file = os.path.join(tr_img_pth,img_file)\n",
    "    img = cv2.imread(img_file,-1)\n",
    "    totalRGB += np.sum(img)\n",
    "    # totalRGB[1] += np.sum(img[:,:,1])\n",
    "    # totalRGB[2] += np.sum(img[:,:,2])\n",
    "img_size = img.shape[:2]\n",
    "total_pixels = img_size[0]*img_size[1]*len(tr_img_files)\n",
    "meanRGB = totalRGB/total_pixels\n",
    "# meanRGB[1] = totalRGB[1]/total_pixels\n",
    "# meanRGB[2] = totalRGB[2]/total_pixels"
   ]
  },
  {
   "cell_type": "code",
   "execution_count": 10,
   "metadata": {},
   "outputs": [
    {
     "data": {
      "text/plain": [
       "(128, 112)"
      ]
     },
     "execution_count": 10,
     "metadata": {},
     "output_type": "execute_result"
    }
   ],
   "source": [
    "img.shape"
   ]
  },
  {
   "cell_type": "code",
   "execution_count": 11,
   "metadata": {},
   "outputs": [
    {
     "name": "stderr",
     "output_type": "stream",
     "text": [
      "calculating var: 100%|██████████| 54/54 [00:00<00:00, 1491.65it/s]\n"
     ]
    }
   ],
   "source": [
    "for img_file in tqdm(tr_img_files,desc=\"calculating var\",mininterval=0.1):\n",
    "    img_file = os.path.join(tr_img_pth,img_file)\n",
    "    img = cv2.imread(img_file,-1)\n",
    "    totalVar += np.sum((img-meanRGB)**2)\n",
    "    # totalVar[1] += np.sum((img[:,:,1]-meanRGB[1])**2)\n",
    "    # totalVar[2] += np.sum((img[:,:,2]-meanRGB[2])**2)\n",
    "varRGB = np.sqrt(totalVar/total_pixels)\n",
    "# varRGB[1] = np.sqrt(totalVar[1]/total_pixels)\n",
    "# varRGB[2] = np.sqrt(totalVar[2]/total_pixels)"
   ]
  },
  {
   "cell_type": "code",
   "execution_count": 12,
   "metadata": {},
   "outputs": [
    {
     "name": "stdout",
     "output_type": "stream",
     "text": [
      "img_size:112x128\n",
      "meanRGB:[42.09389984]\n",
      "stdRGB:[62.07850637]\n"
     ]
    }
   ],
   "source": [
    "print(\"img_size:{}x{}\".format(img_size[1],img_size[0]))\n",
    "print(\"meanRGB:{}\".format(meanRGB))\n",
    "print(\"stdRGB:{}\".format(varRGB))"
   ]
  },
  {
   "cell_type": "markdown",
   "metadata": {},
   "source": []
  },
  {
   "cell_type": "code",
   "execution_count": null,
   "metadata": {},
   "outputs": [],
   "source": []
  }
 ],
 "metadata": {
  "kernelspec": {
   "display_name": "Python 3.7.11 ('raw')",
   "language": "python",
   "name": "python3"
  },
  "language_info": {
   "codemirror_mode": {
    "name": "ipython",
    "version": 3
   },
   "file_extension": ".py",
   "mimetype": "text/x-python",
   "name": "python",
   "nbconvert_exporter": "python",
   "pygments_lexer": "ipython3",
   "version": "3.7.11"
  },
  "orig_nbformat": 4,
  "vscode": {
   "interpreter": {
    "hash": "29a57f54a24f0fb4f3b3e8086eca293e5da7ef17b5e12018e18570ac394d1f8e"
   }
  }
 },
 "nbformat": 4,
 "nbformat_minor": 2
}
