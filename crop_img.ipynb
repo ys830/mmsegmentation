{
 "cells": [
  {
   "cell_type": "code",
   "execution_count": 2,
   "metadata": {},
   "outputs": [],
   "source": [
    "import cv2\n",
    "import os"
   ]
  },
  {
   "cell_type": "code",
   "execution_count": 3,
   "metadata": {},
   "outputs": [],
   "source": [
    "path = './data/segment/08es_res/'\n",
    "for dirpath, dirnames, filenames in os.walk(path):\n",
    "    for filename in filenames:\n",
    "        # print(os.path.join(dirpath, filename))\n",
    "        img_path = os.path.join(dirpath, filename)\n",
    "        img = cv2.imread(img_path, -1)\n",
    "        cropped = img[0:112, 0:112]  # 裁剪坐标为[y0:y1, x0:x1]\n",
    "        cv2.imwrite(os.path.join(\"./data/08es_res/img_dir/TEST\", filename), cropped)"
   ]
  },
  {
   "cell_type": "code",
   "execution_count": null,
   "metadata": {},
   "outputs": [],
   "source": []
  },
  {
   "cell_type": "code",
   "execution_count": null,
   "metadata": {},
   "outputs": [],
   "source": []
  }
 ],
 "metadata": {
  "kernelspec": {
   "display_name": "Python 3.7.11 ('raw')",
   "language": "python",
   "name": "python3"
  },
  "language_info": {
   "codemirror_mode": {
    "name": "ipython",
    "version": 3
   },
   "file_extension": ".py",
   "mimetype": "text/x-python",
   "name": "python",
   "nbconvert_exporter": "python",
   "pygments_lexer": "ipython3",
   "version": "3.7.11"
  },
  "orig_nbformat": 4,
  "vscode": {
   "interpreter": {
    "hash": "29a57f54a24f0fb4f3b3e8086eca293e5da7ef17b5e12018e18570ac394d1f8e"
   }
  }
 },
 "nbformat": 4,
 "nbformat_minor": 2
}
